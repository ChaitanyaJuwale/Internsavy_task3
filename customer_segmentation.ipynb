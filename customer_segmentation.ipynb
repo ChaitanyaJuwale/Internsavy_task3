{
  "cells": [
    {
      "cell_type": "code",
      "execution_count": null,
      "metadata": {
        "trusted": true
      },
      "outputs": [],
      "source": [
        "# importing the libraries\n",
        "import numpy as np\n",
        "import pandas as pd\n",
        "import matplotlib.pyplot as plt\n",
        "import seaborn as sns"
      ]
    },
    {
      "cell_type": "code",
      "execution_count": null,
      "metadata": {
        "trusted": true
      },
      "outputs": [],
      "source": [
        "# Use the correct relative file path to the uploaded CSV file\n",
        "file_path = 'Mall_Customers.csv'\n",
        "\n",
        "# Load the dataset\n",
        "data = pd.read_csv(file_path)\n",
        "\n",
        "\n"
      ]
    },
    {
      "cell_type": "code",
      "execution_count": null,
      "metadata": {
        "trusted": true
      },
      "outputs": [],
      "source": [
        "data.head()"
      ]
    },
    {
      "cell_type": "code",
      "execution_count": null,
      "metadata": {
        "trusted": true
      },
      "outputs": [],
      "source": [
        "data.shape\n"
      ]
    },
    {
      "cell_type": "code",
      "execution_count": null,
      "metadata": {
        "trusted": true
      },
      "outputs": [],
      "source": [
        "data.describe()"
      ]
    },
    {
      "cell_type": "code",
      "execution_count": null,
      "metadata": {
        "trusted": true
      },
      "outputs": [],
      "source": [
        "data.isnull().sum()"
      ]
    },
    {
      "cell_type": "code",
      "execution_count": null,
      "metadata": {
        "trusted": true
      },
      "outputs": [],
      "source": [
        "import matplotlib.pyplot as plt\n",
        "import seaborn as sns\n",
        "\n",
        "def diagnostic_plots(data, feature_names):\n",
        "    num_features = len(feature_names)\n",
        "    num_plots_per_row = 3\n",
        "    num_rows = (num_features + num_plots_per_row - 1) // num_plots_per_row\n",
        "\n",
        "    for row in range(num_rows):\n",
        "        start_idx = row * num_plots_per_row\n",
        "        end_idx = min(start_idx + num_plots_per_row, num_features)\n",
        "        features_subset = feature_names[start_idx:end_idx]\n",
        "\n",
        "        plt.figure(figsize=(18, 6))\n",
        "\n",
        "        for idx, feature_name in enumerate(features_subset):\n",
        "            plt.subplot(1, num_plots_per_row, idx + 1)\n",
        "\n",
        "            # Scatter plot\n",
        "            sns.scatterplot(x=data[feature_name], y=data[feature_name])\n",
        "            plt.title(f'Scatter Plot of {feature_name}')\n",
        "            plt.xlabel(feature_name)\n",
        "            plt.ylabel(feature_name)\n",
        "\n",
        "            plt.tight_layout()\n",
        "\n",
        "        plt.show()\n",
        "\n",
        "        plt.figure(figsize=(18, 6))\n",
        "\n",
        "        for idx, feature_name in enumerate(features_subset):\n",
        "            plt.subplot(1, num_plots_per_row, idx + 1)\n",
        "\n",
        "            # Histogram\n",
        "            sns.histplot(data[feature_name], bins=20, kde=True)\n",
        "            plt.title(f'Histogram and KDE of {feature_name}')\n",
        "            plt.xlabel(feature_name)\n",
        "            plt.ylabel('Frequency')\n",
        "\n",
        "            plt.tight_layout()\n",
        "\n",
        "        plt.show()\n",
        "\n",
        "        plt.figure(figsize=(18, 6))\n",
        "\n",
        "        for idx, feature_name in enumerate(features_subset):\n",
        "            plt.subplot(1, num_plots_per_row, idx + 1)\n",
        "\n",
        "            # Box plot\n",
        "            sns.boxplot(x=data[feature_name])\n",
        "            plt.title(f'Box Plot of {feature_name}')\n",
        "            plt.xlabel(feature_name)\n",
        "\n",
        "            plt.tight_layout()\n",
        "\n",
        "        plt.show()\n",
        "\n",
        "# Replace 'data' with your actual dataset and provide a list of feature names you want to analyze\n",
        "feature_names = ['Age', 'Annual Income (k$)', 'Spending Score (1-100)']\n",
        "diagnostic_plots(data, feature_names)\n"
      ]
    },
    {
      "cell_type": "code",
      "execution_count": null,
      "metadata": {
        "trusted": true
      },
      "outputs": [],
      "source": [
        "# Remove the 'CustomerID' column from the dataset\n",
        "data_without_id = data.drop(columns=['CustomerID'])\n",
        "\n",
        "# Calculate the correlation matrix\n",
        "correlation_matrix = data_without_id.corr(numeric_only=True)\n",
        "\n",
        "# Visualize the correlation matrix\n",
        "import seaborn as sns\n",
        "import matplotlib.pyplot as plt\n",
        "\n",
        "plt.figure(figsize=(6, 4))\n",
        "sns.heatmap(correlation_matrix, annot=True, cmap='coolwarm', center=0)\n",
        "plt.title('Correlation Matrix')\n",
        "plt.show()\n"
      ]
    },
    {
      "cell_type": "code",
      "execution_count": null,
      "metadata": {
        "trusted": true
      },
      "outputs": [],
      "source": [
        "from sklearn.cluster import KMeans\n",
        "\n",
        "# Taking annual income and spending score in x to make clusters\n",
        "x = data.iloc[:, [3, 4]]\n",
        "\n",
        "# Chosen optimal number of clusters\n",
        "num_clusters = 5\n",
        "\n",
        "# Initialize KMeans model\n",
        "kmeans = KMeans(n_clusters=num_clusters, init=\"k-means++\", max_iter=300, n_init=10, random_state=0)\n",
        "\n",
        "# Fit the model to the data and get cluster labels\n",
        "cluster_labels = kmeans.fit_predict(x)\n",
        "\n",
        "# Add cluster labels to the original data\n",
        "data['Cluster'] = cluster_labels\n"
      ]
    },
    {
      "cell_type": "code",
      "execution_count": null,
      "metadata": {},
      "outputs": [],
      "source": [
        "import matplotlib.pyplot as plt\n",
        "\n",
        "# Scatter plot of 'Annual Income' vs 'Spending Score', colored by cluster\n",
        "plt.figure(figsize=(10, 6))\n",
        "for cluster_id in range(num_clusters):\n",
        "    cluster_data = data[data['Cluster'] == cluster_id]\n",
        "    plt.scatter(cluster_data['Annual Income (k$)'], cluster_data['Spending Score (1-100)'],\n",
        "                label=f'Cluster {cluster_id + 1}', alpha=0.7)\n",
        "\n",
        "# Plot cluster centroids with smaller markers\n",
        "plt.scatter(kmeans.cluster_centers_[:, 0], kmeans.cluster_centers_[:, 1],\n",
        "            s=100, c='black', marker='X', label='Centroids')\n",
        "\n",
        "plt.xlabel('Annual Income (k$)')\n",
        "plt.ylabel('Spending Score (1-100)')\n",
        "plt.title('Clusters of Customers with Centroids')\n",
        "plt.legend()\n",
        "plt.show()\n"
      ]
    },
    {
      "cell_type": "markdown",
      "metadata": {},
      "source": [
        "Using on the k-means clustering we have managed to form different clusters based on different features. Mall management can target the clusters with average spending score to increase their profit and should also maintain good relationship with premium customers with high spending score.They should also work on coming up with new innovative ideas to upgrade the customers with low spending score."
      ]
    },
    {
      "cell_type": "markdown",
      "metadata": {},
      "source": [
        " Segmentation using Age, Annual Income, and Spending Score (K-Means)"
      ]
    },
    {
      "cell_type": "code",
      "execution_count": null,
      "metadata": {
        "trusted": true
      },
      "outputs": [],
      "source": [
        "X = data[['Age', 'Annual Income (k$)', 'Spending Score (1-100)']].iloc[:, :].values\n"
      ]
    },
    {
      "cell_type": "code",
      "execution_count": null,
      "metadata": {
        "trusted": true
      },
      "outputs": [],
      "source": [
        "### Training the K-Means model on the dataset\n",
        "\n",
        "kmeans = KMeans(n_clusters = 6, init = 'k-means++', random_state = 42)\n",
        "y_kmeans = kmeans.fit_predict(X)\n"
      ]
    },
    {
      "cell_type": "code",
      "execution_count": null,
      "metadata": {
        "trusted": true
      },
      "outputs": [],
      "source": [
        "wcss = []\n",
        "for i in range(1, 11):\n",
        "    kmeans = KMeans(n_clusters = i, init = 'k-means++', random_state = 42)\n",
        "    kmeans.fit(X)\n",
        "    wcss.append(kmeans.inertia_)\n",
        "plt.plot(range(1, 11), wcss, marker = 'o')\n",
        "plt.title('The Elbow Method')\n",
        "plt.xlabel('Number of clusters')\n",
        "plt.ylabel('WCSS')\n",
        "plt.show()"
      ]
    },
    {
      "cell_type": "markdown",
      "metadata": {},
      "source": [
        "From the above graph, we can see that the optimal number of clusters are 6."
      ]
    },
    {
      "cell_type": "code",
      "execution_count": null,
      "metadata": {
        "trusted": true
      },
      "outputs": [],
      "source": [
        "\n",
        "fig = plt.figure(figsize = (15,15))\n",
        "ax = fig.add_subplot(111, projection = '3d')\n",
        "ax.scatter(X[y_kmeans == 0, 0], X[y_kmeans == 0, 1], X[y_kmeans == 0, 2], s = 40 , color = 'blue', label = \"Cluster 0\")\n",
        "ax.scatter(X[y_kmeans == 1, 0], X[y_kmeans == 1, 1], X[y_kmeans == 1, 2], s = 40 , color = 'orange', label = \"Cluster 1\")\n",
        "ax.scatter(X[y_kmeans == 2, 0], X[y_kmeans == 2, 1], X[y_kmeans == 2, 2], s = 40 , color = 'green', label = \"Cluster 2\")\n",
        "ax.scatter(X[y_kmeans == 3, 0], X[y_kmeans == 3, 1], X[y_kmeans == 3, 2], s = 40 , color = 'magenta', label = \"Cluster 3\")\n",
        "ax.scatter(X[y_kmeans == 4, 0], X[y_kmeans == 4, 1], X[y_kmeans == 4, 2], s = 40 , color = 'purple', label = \"Cluster 4\")\n",
        "ax.scatter(X[y_kmeans == 5, 0], X[y_kmeans == 5, 1], X[y_kmeans == 5, 2], s = 40 , color = 'red', label = \"Cluster 5\")\n",
        "ax.set_xlabel('Age')\n",
        "ax.set_ylabel('Anual Income (k$)')\n",
        "ax.set_zlabel('Spending Score (1-100)')\n",
        "ax.legend()\n",
        "plt.show()"
      ]
    },
    {
      "cell_type": "code",
      "execution_count": null,
      "metadata": {},
      "outputs": [],
      "source": []
    }
  ],
  "metadata": {
    "kernelspec": {
      "display_name": "Python 3",
      "language": "python",
      "name": "python3"
    },
    "language_info": {
      "codemirror_mode": {
        "name": "ipython",
        "version": 3
      },
      "file_extension": ".py",
      "mimetype": "text/x-python",
      "name": "python",
      "nbconvert_exporter": "python",
      "pygments_lexer": "ipython3",
      "version": "3.11.4"
    }
  },
  "nbformat": 4,
  "nbformat_minor": 4
}
